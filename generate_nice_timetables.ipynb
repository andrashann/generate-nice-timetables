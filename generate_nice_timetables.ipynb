{
 "cells": [
  {
   "cell_type": "code",
   "execution_count": null,
   "metadata": {},
   "outputs": [],
   "source": [
    "# Set your Google directions API key in the environment\n",
    "# before starting the notebook server.\n",
    "\n",
    "import os\n",
    "KEY = os.environ.get('GOOGLE_API_KEY')"
   ]
  },
  {
   "cell_type": "code",
   "execution_count": null,
   "metadata": {},
   "outputs": [],
   "source": [
    "# Details of the API call\n",
    "\n",
    "# Make sure that the lookup date is not in the past\n",
    "LOOKUP_DATE = '2018-10-15'\n",
    "ORIGIN = 'Budapest Kelenföld railway station, Hungary'\n",
    "ORIGIN = 'Balatonhenye, Hungary'\n",
    "LANGUAGE = 'hu'"
   ]
  },
  {
   "cell_type": "code",
   "execution_count": null,
   "metadata": {},
   "outputs": [],
   "source": [
    "MAX_TRANSFERS = 2"
   ]
  },
  {
   "cell_type": "code",
   "execution_count": null,
   "metadata": {},
   "outputs": [],
   "source": [
    "# These are language-specific settings. The vehicle\n",
    "# type symbol is used to indicate whether one has to\n",
    "# take the train or the bus. In Hungarian, train is\n",
    "# \"vonat\", hence the Ⓥ in my code.\n",
    "\n",
    "VEHICLE_TYPE_SYMBOL = {\n",
    "    'HEAVY_RAIL': 'Ⓥ',\n",
    "    'BUS': 'Ⓑ'\n",
    "}\n",
    "\n",
    "# These replacements are done at the very end of\n",
    "# generating the timetable HTML, with no particular \n",
    "# order to them. These are used to turn long stop names\n",
    "# into abbreviated versions, e.g. \"vasúti megállóhely\",\n",
    "# \"train stop\" to \"vmh.\" You could replace it with\n",
    "# abbreviations in your own language.\n",
    "\n",
    "REPLACE_TEXT = {\n",
    "    'autóbusz-állomás': 'aut.áll.',\n",
    "    'autóbusz-forduló': 'aut.ford.',\n",
    "    'autóbusz-pályaudvar': 'aut.pu.',\n",
    "    'autóbusz-váróterem': 'aut.vt.',\n",
    "    'vasútállomás': 'vá.',\n",
    "    'pályaudvar': 'pu.',\n",
    "    'vasúti megállóhely': 'vmh.',\n",
    "    'bejárati út': 'bej.út'\n",
    "}"
   ]
  },
  {
   "cell_type": "code",
   "execution_count": null,
   "metadata": {},
   "outputs": [],
   "source": [
    "import requests\n",
    "import json\n",
    "\n",
    "import dateutil.parser as dp\n",
    "from datetime import datetime"
   ]
  },
  {
   "cell_type": "code",
   "execution_count": null,
   "metadata": {},
   "outputs": [],
   "source": [
    "# We need to pass a unix timestamp to the API to specify\n",
    "# what point in time to calculate routes for.\n",
    "\n",
    "t = '{}T00:00:00.000Z'.format(LOOKUP_DATE)\n",
    "parsed_t = dp.parse(t)\n",
    "departure_unix_timestamp = parsed_t.strftime('%s')"
   ]
  },
  {
   "cell_type": "code",
   "execution_count": null,
   "metadata": {},
   "outputs": [],
   "source": [
    "# And we will turn unix timestamps back to dates to check\n",
    "# that we are still on the same day as the query was for.\n",
    "\n",
    "def ts_to_date(ts):\n",
    "    return datetime.fromtimestamp(int(ts)).isoformat()[:10]"
   ]
  },
  {
   "cell_type": "code",
   "execution_count": null,
   "metadata": {},
   "outputs": [],
   "source": [
    "request_data = {\n",
    "    'origin': ORIGIN,\n",
    "    'destination': DESTINATION,\n",
    "    'mode': 'transit',\n",
    "    'language': LANGUAGE,\n",
    "}\n",
    "\n",
    "request_data['key'] = KEY\n",
    "\n",
    "request_url = 'https://maps.googleapis.com/maps/api/directions/json'"
   ]
  },
  {
   "cell_type": "code",
   "execution_count": null,
   "metadata": {},
   "outputs": [],
   "source": [
    "def get_transit_plan(departure_time):\n",
    "    rd = request_data.copy()\n",
    "    rd['departure_time'] = str(departure_time)\n",
    "        \n",
    "    r = requests.get(request_url, params=rd)\n",
    "    timetable_data = json.loads(r.text)\n",
    "    if timetable_data['status'] != 'OK':\n",
    "        print(timetable_data['status'])\n",
    "    \n",
    "    # only one route will be returned (for given dep time)\n",
    "    route = timetable_data['routes'][0] \n",
    "    # only one leg will be returned, as no intermediate stops are possible in transit\n",
    "    leg = route['legs'][0] \n",
    "    \n",
    "    # ignore walking directions between stops\n",
    "    transit_steps = [x for x in leg['steps'] if x['travel_mode'] != 'WALKING'] \n",
    "    \n",
    "    # initialize result container\n",
    "    transit_results = []\n",
    "    \n",
    "    # there will be steps (i.e. different vehicles one takes)\n",
    "    # process these to get the parts of the data we need\n",
    "    for step in transit_steps:\n",
    "        # get the fields from the API response that we will\n",
    "        # actually use\n",
    "        s = step['transit_details']\n",
    "\n",
    "        step_data = {}\n",
    "\n",
    "        step_data['departure_stop'] = s['departure_stop']['name']\n",
    "        step_data['departure_location'] = str(s['departure_stop']['location']['lat']) + \\\n",
    "                                          ',' + str(s['departure_stop']['location']['lng'])\n",
    "        step_data['departure_time'] = s['departure_time']['text']\n",
    "        step_data['departure_time_epoch'] = s['departure_time']['value']\n",
    "        step_data['arrival_stop'] = s['arrival_stop']['name']\n",
    "        step_data['arrival_location'] = str(s['arrival_stop']['location']['lat']) + \\\n",
    "                                        ',' + str(s['arrival_stop']['location']['lng'])\n",
    "        step_data['arrival_time'] = s['arrival_time']['text']\n",
    "        step_data['arrival_time_epoch'] = s['arrival_time']['value']\n",
    "        step_data['vehicle'] = s['line']['vehicle']['name']\n",
    "        step_data['vehicle_type'] = s['line']['vehicle']['type']\n",
    "        step_data['headsign'] = s['headsign']\n",
    "        step_data['line_short_name'] = s['line'].get('short_name')\n",
    "        step_data['line_name'] = s['line'].get('name')\n",
    " \n",
    "        transit_results.append(step_data)\n",
    "    \n",
    "    # we will need current the departure time to look for\n",
    "    # the next one after it\n",
    "    this_departure_time = transit_steps[0]['transit_details']['departure_time']['value']\n",
    "    \n",
    "    return(this_departure_time, transit_results, transit_steps)"
   ]
  },
  {
   "cell_type": "code",
   "execution_count": null,
   "metadata": {
    "scrolled": true
   },
   "outputs": [],
   "source": [
    "this_departure_time =  departure_unix_timestamp\n",
    "\n",
    "full_transit_results = []\n",
    "while True:\n",
    "    # the departure time we pass to the API should be one second\n",
    "    # after the previous departure time to get the next option\n",
    "\n",
    "    this_departure_time = str(int(this_departure_time) + 1)\n",
    "    this_departure_time, transit_results, _ = get_transit_plan(this_departure_time)\n",
    "    print('.', end=' ')\n",
    "    if ts_to_date(this_departure_time) != LOOKUP_DATE:\n",
    "        # break the loop if we are on the next day\n",
    "        break\n",
    "    full_transit_results.append(transit_results)"
   ]
  },
  {
   "cell_type": "code",
   "execution_count": null,
   "metadata": {},
   "outputs": [],
   "source": [
    "# skip results if they have too many transfers\n",
    "filtered_results = [x for x in full_transit_results if len(x) <= MAX_TRANSFERS + 1]"
   ]
  },
  {
   "cell_type": "code",
   "execution_count": null,
   "metadata": {},
   "outputs": [],
   "source": [
    "# gather all locations that are mentioned so that we can\n",
    "# query the Google Location API to find out which locality\n",
    "# (city, village, etc.) they are in.\n",
    "\n",
    "locations = list(set([y['arrival_location'] for x in filtered_results for y in x] + \n",
    "                     [y['departure_location'] for x in filtered_results for y in x]))"
   ]
  },
  {
   "cell_type": "code",
   "execution_count": null,
   "metadata": {},
   "outputs": [],
   "source": [
    "reverse_geocode_request_url = 'https://maps.googleapis.com/maps/api/geocode/json'"
   ]
  },
  {
   "cell_type": "code",
   "execution_count": null,
   "metadata": {},
   "outputs": [],
   "source": [
    "# actually query the locations\n",
    "\n",
    "location_lookup = {}\n",
    "for loc in locations:\n",
    "    r = requests.get(reverse_geocode_request_url, params={'latlng': loc, 'key': KEY})\n",
    "    print('.', end=' ')\n",
    "    loc_data = json.loads(r.text)\n",
    "    location_name = [x['long_name'] for x in loc_data['results'][0]['address_components'] \n",
    "                         if 'locality' in x['types']][0]\n",
    "    location_lookup[loc] = location_name"
   ]
  },
  {
   "cell_type": "code",
   "execution_count": null,
   "metadata": {},
   "outputs": [],
   "source": [
    "# add the localities to the results dictionary\n",
    "\n",
    "for res in filtered_results:\n",
    "    for step in res:\n",
    "        step['departure_locality'] = location_lookup[step['departure_location']]\n",
    "        step['arrival_locality'] = location_lookup[step['arrival_location']]"
   ]
  },
  {
   "cell_type": "code",
   "execution_count": null,
   "metadata": {},
   "outputs": [],
   "source": [
    "# get the result with the most legs; we will use this in formatting\n",
    "# the resulting table in HTML\n",
    "\n",
    "most_legs = max([len(x) for x in filtered_results])"
   ]
  },
  {
   "cell_type": "markdown",
   "metadata": {},
   "source": [
    "# Creating the actual HTML output"
   ]
  },
  {
   "cell_type": "code",
   "execution_count": null,
   "metadata": {},
   "outputs": [],
   "source": [
    "from jinja2 import Template"
   ]
  },
  {
   "cell_type": "code",
   "execution_count": null,
   "metadata": {},
   "outputs": [],
   "source": [
    "# use the generated data to fill in the HTML template written \n",
    "# using the jinja2 templating language.\n",
    "\n",
    "with open('timetable_template.html') as f:\n",
    "    template = Template(f.read())\n",
    "    \n",
    "rendered_timetable = template.render(results=filtered_results, vst=VEHICLE_TYPE_SYMBOL, most_legs=most_legs)\n",
    "\n",
    "for orig, new in REPLACE_TEXT.items():\n",
    "    rendered_timetable = rendered_timetable.replace(orig, new)\n",
    "\n",
    "with open('timetable.html', 'w') as f:\n",
    "    f.write(rendered_timetable)"
   ]
  }
 ],
 "metadata": {
  "kernelspec": {
   "display_name": "Python 3",
   "language": "python",
   "name": "python3"
  },
  "language_info": {
   "codemirror_mode": {
    "name": "ipython",
    "version": 3
   },
   "file_extension": ".py",
   "mimetype": "text/x-python",
   "name": "python",
   "nbconvert_exporter": "python",
   "pygments_lexer": "ipython3",
   "version": "3.3.0"
  }
 },
 "nbformat": 4,
 "nbformat_minor": 2
}
